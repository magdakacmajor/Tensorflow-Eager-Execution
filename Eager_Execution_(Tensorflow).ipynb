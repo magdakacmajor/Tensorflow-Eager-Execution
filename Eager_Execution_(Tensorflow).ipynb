{
  "nbformat": 4,
  "nbformat_minor": 0,
  "metadata": {
    "colab": {
      "name": "Eager Execution (Tensorflow).ipynb",
      "version": "0.3.2",
      "provenance": [],
      "collapsed_sections": [],
      "include_colab_link": true
    },
    "kernelspec": {
      "name": "python3",
      "display_name": "Python 3"
    },
    "accelerator": "GPU"
  },
  "cells": [
    {
      "cell_type": "markdown",
      "metadata": {
        "id": "view-in-github",
        "colab_type": "text"
      },
      "source": [
        "[View in Colaboratory](https://colab.research.google.com/github/singhsidhukuldeep/Tensorflow-Eager-Execution/blob/master/Eager_Execution_(Tensorflow).ipynb)"
      ]
    },
    {
      "metadata": {
        "id": "M7r1fJQniHj7",
        "colab_type": "text"
      },
      "cell_type": "markdown",
      "source": [
        "# Introduction \n",
        "\n",
        "**Eager Execution (EE)** enables you to run operations immediately. In TensorFlow, you have to create a graph and run it within a session in order to execute the operations of the graph. On the other hand, EE enables you to run operations directly and inspect the output as the operations are executed. This is very useful especially for debugging. Moreover, EE is pythonic and intergrates pretty well with numpy so it makes programming really easy and flexible. The next version of TenosrFlow \"2.0\" will enable EE by default. \n",
        "\n",
        "From Google AI _[article](https://ai.googleblog.com/2017/10/eager-execution-imperative-define-by.html)_, these are some benefits of using EE\n",
        "\n",
        "   * Fast debugging with immediate run-time errors and integration with  python tools\n",
        "   * Support for dynamic models using easy-to-use Python control flow\n",
        "   * Strong support for custom and higher-order gradients\n",
        "   * Almost all of the available TensorFlow operations\n",
        "   \n",
        "   ![alt text](https://i.imgur.com/YUlhihi.png)\n",
        "   \n",
        "   ## _[Article](http://kuldeepsinghsidhu.blogspot.com)_"
      ]
    },
    {
      "metadata": {
        "id": "PYHf4LBYwmGW",
        "colab_type": "code",
        "colab": {
          "base_uri": "https://localhost:8080/",
          "height": 34
        },
        "outputId": "60efb630-c4b0-4346-c35f-bf808d90551d"
      },
      "cell_type": "code",
      "source": [
        "!python --version"
      ],
      "execution_count": 2,
      "outputs": [
        {
          "output_type": "stream",
          "text": [
            "Python 3.6.6\n"
          ],
          "name": "stdout"
        }
      ]
    },
    {
      "metadata": {
        "id": "djxX98AjvdM_",
        "colab_type": "text"
      },
      "cell_type": "markdown",
      "source": [
        "# Installing dependencies (Python 3.5+)"
      ]
    },
    {
      "metadata": {
        "id": "v6GdLGJHvbIj",
        "colab_type": "code",
        "colab": {
          "base_uri": "https://localhost:8080/",
          "height": 442
        },
        "outputId": "a7c9dc1c-8789-450f-8d9e-cc88f04153ba"
      },
      "cell_type": "code",
      "source": [
        "# installing numpy\n",
        "!pip install numpy\n",
        "\n",
        "# installing tensorflow\n",
        "!pip install tensorflow\n",
        "\n",
        "# installing matplotlib\n",
        "!pip install matplotlib"
      ],
      "execution_count": 3,
      "outputs": [
        {
          "output_type": "stream",
          "text": [
            "Requirement already satisfied: numpy in /usr/local/lib/python3.6/dist-packages (1.14.6)\n",
            "Requirement already satisfied: tensorflow in /usr/local/lib/python3.6/dist-packages (1.11.0)\n",
            "Requirement already satisfied: gast>=0.2.0 in /usr/local/lib/python3.6/dist-packages (from tensorflow) (0.2.0)\n",
            "Requirement already satisfied: six>=1.10.0 in /usr/local/lib/python3.6/dist-packages (from tensorflow) (1.11.0)\n",
            "Requirement already satisfied: protobuf>=3.6.0 in /usr/local/lib/python3.6/dist-packages (from tensorflow) (3.6.1)\n",
            "Requirement already satisfied: keras-preprocessing>=1.0.3 in /usr/local/lib/python3.6/dist-packages (from tensorflow) (1.0.5)\n",
            "Requirement already satisfied: tensorboard<1.12.0,>=1.11.0 in /usr/local/lib/python3.6/dist-packages (from tensorflow) (1.11.0)\n",
            "Requirement already satisfied: keras-applications>=1.0.5 in /usr/local/lib/python3.6/dist-packages (from tensorflow) (1.0.6)\n",
            "Requirement already satisfied: grpcio>=1.8.6 in /usr/local/lib/python3.6/dist-packages (from tensorflow) (1.15.0)\n",
            "Requirement already satisfied: setuptools<=39.1.0 in /usr/local/lib/python3.6/dist-packages (from tensorflow) (39.1.0)\n",
            "Requirement already satisfied: wheel>=0.26 in /usr/local/lib/python3.6/dist-packages (from tensorflow) (0.32.1)\n",
            "Requirement already satisfied: termcolor>=1.1.0 in /usr/local/lib/python3.6/dist-packages (from tensorflow) (1.1.0)\n",
            "Requirement already satisfied: absl-py>=0.1.6 in /usr/local/lib/python3.6/dist-packages (from tensorflow) (0.5.0)\n",
            "Requirement already satisfied: numpy>=1.13.3 in /usr/local/lib/python3.6/dist-packages (from tensorflow) (1.14.6)\n",
            "Requirement already satisfied: astor>=0.6.0 in /usr/local/lib/python3.6/dist-packages (from tensorflow) (0.7.1)\n",
            "Requirement already satisfied: markdown>=2.6.8 in /usr/local/lib/python3.6/dist-packages (from tensorboard<1.12.0,>=1.11.0->tensorflow) (3.0.1)\n",
            "Requirement already satisfied: werkzeug>=0.11.10 in /usr/local/lib/python3.6/dist-packages (from tensorboard<1.12.0,>=1.11.0->tensorflow) (0.14.1)\n",
            "Requirement already satisfied: h5py in /usr/local/lib/python3.6/dist-packages (from keras-applications>=1.0.5->tensorflow) (2.8.0)\n",
            "Requirement already satisfied: matplotlib in /usr/local/lib/python3.6/dist-packages (2.1.2)\n",
            "Requirement already satisfied: six>=1.10 in /usr/local/lib/python3.6/dist-packages (from matplotlib) (1.11.0)\n",
            "Requirement already satisfied: pyparsing!=2.0.4,!=2.1.2,!=2.1.6,>=2.0.1 in /usr/local/lib/python3.6/dist-packages (from matplotlib) (2.2.2)\n",
            "Requirement already satisfied: cycler>=0.10 in /usr/local/lib/python3.6/dist-packages (from matplotlib) (0.10.0)\n",
            "Requirement already satisfied: python-dateutil>=2.1 in /usr/local/lib/python3.6/dist-packages (from matplotlib) (2.5.3)\n",
            "Requirement already satisfied: numpy>=1.7.1 in /usr/local/lib/python3.6/dist-packages (from matplotlib) (1.14.6)\n",
            "Requirement already satisfied: pytz in /usr/local/lib/python3.6/dist-packages (from matplotlib) (2018.5)\n"
          ],
          "name": "stdout"
        }
      ]
    },
    {
      "metadata": {
        "id": "CiwZoGf85dnU",
        "colab_type": "text"
      },
      "cell_type": "markdown",
      "source": [
        "# Enabling Eager Execution \n",
        "In current versions of TensorFlow eager execution is not enabled by default so you have to enable it. "
      ]
    },
    {
      "metadata": {
        "id": "jlnQG8hC-uCg",
        "colab_type": "code",
        "colab": {}
      },
      "cell_type": "code",
      "source": [
        "import tensorflow as tf"
      ],
      "execution_count": 0,
      "outputs": []
    },
    {
      "metadata": {
        "id": "8Fq5Gb135Z5f",
        "colab_type": "text"
      },
      "cell_type": "markdown",
      "source": [
        "Check if eager execution is enabled "
      ]
    },
    {
      "metadata": {
        "id": "kS7er1hy-7yO",
        "colab_type": "code",
        "colab": {
          "base_uri": "https://localhost:8080/",
          "height": 34
        },
        "outputId": "99e186f3-9006-4332-98b6-83d28ab82430"
      },
      "cell_type": "code",
      "source": [
        "if (not tf.executing_eagerly()):\n",
        "    tf.enable_eager_execution()\n",
        "    print (\"Enabled Eager Execution\")\n",
        "else:\n",
        "    print (\"Eager Execution already enabled\")"
      ],
      "execution_count": 44,
      "outputs": [
        {
          "output_type": "stream",
          "text": [
            "Eager Execution already enabled\n"
          ],
          "name": "stdout"
        }
      ]
    },
    {
      "metadata": {
        "id": "UC6X5Y844_E-",
        "colab_type": "text"
      },
      "cell_type": "markdown",
      "source": [
        "# Executing Ops Eagerly \n",
        "By perfoming operations you can see the output directly without creating a session. "
      ]
    },
    {
      "metadata": {
        "id": "DmwZJKlA_B15",
        "colab_type": "code",
        "colab": {
          "base_uri": "https://localhost:8080/",
          "height": 34
        },
        "outputId": "96fc0aaf-6450-4476-ffba-5bfe3616097a"
      },
      "cell_type": "code",
      "source": [
        "x = [[2.]]\n",
        "m = tf.square(x)\n",
        "print(m)"
      ],
      "execution_count": 45,
      "outputs": [
        {
          "output_type": "stream",
          "text": [
            "tf.Tensor([[4.]], shape=(1, 1), dtype=float32)\n"
          ],
          "name": "stdout"
        }
      ]
    },
    {
      "metadata": {
        "id": "WGLoIPrQ6ZYT",
        "colab_type": "text"
      },
      "cell_type": "markdown",
      "source": [
        "You can call `.numpy` to retrieve the results of the tensor as a numpy array"
      ]
    },
    {
      "metadata": {
        "id": "-FGFGbZq6fRo",
        "colab_type": "code",
        "colab": {
          "base_uri": "https://localhost:8080/",
          "height": 34
        },
        "outputId": "e921bca7-44e8-4bf4-8de4-5c79c651f65a"
      },
      "cell_type": "code",
      "source": [
        "m.numpy()"
      ],
      "execution_count": 46,
      "outputs": [
        {
          "output_type": "execute_result",
          "data": {
            "text/plain": [
              "array([[4.]], dtype=float32)"
            ]
          },
          "metadata": {
            "tags": []
          },
          "execution_count": 46
        }
      ]
    },
    {
      "metadata": {
        "id": "l9Xlu7in6m22",
        "colab_type": "text"
      },
      "cell_type": "markdown",
      "source": [
        "You can also compute an operation including two tensors "
      ]
    },
    {
      "metadata": {
        "id": "d4tKJJ90_QMM",
        "colab_type": "code",
        "colab": {
          "base_uri": "https://localhost:8080/",
          "height": 68
        },
        "outputId": "e125d873-a04e-4867-e399-a018f024e94a"
      },
      "cell_type": "code",
      "source": [
        "a = tf.constant([[1, 2],\n",
        "                 [3, 4]])\n",
        "\n",
        "b = tf.constant([[2, 1],\n",
        "                 [3, 4]])\n",
        "\n",
        "ab = tf.matmul(a, b)\n",
        "\n",
        "print('a * b = \\n', ab.numpy())"
      ],
      "execution_count": 47,
      "outputs": [
        {
          "output_type": "stream",
          "text": [
            "a * b = \n",
            " [[ 8  9]\n",
            " [18 19]]\n"
          ],
          "name": "stdout"
        }
      ]
    },
    {
      "metadata": {
        "id": "V5qlVJygETcb",
        "colab_type": "text"
      },
      "cell_type": "markdown",
      "source": [
        "# Constants and Variables \n",
        "\n",
        "\n",
        "*   `tf.constant`, creates a constant tensor populated with the values as argument. The values are immutable. \n",
        "*   `tf.Variable `, this method encapsultes a mutable tensor that can be changed later using assign \n"
      ]
    },
    {
      "metadata": {
        "id": "ayMVXFj1FZxz",
        "colab_type": "text"
      },
      "cell_type": "markdown",
      "source": [
        "Creating a constant tensor "
      ]
    },
    {
      "metadata": {
        "id": "g2KFQKSLFNlS",
        "colab_type": "code",
        "colab": {
          "base_uri": "https://localhost:8080/",
          "height": 34
        },
        "outputId": "2f00476c-0e72-4bff-924b-bb8c9ca35281"
      },
      "cell_type": "code",
      "source": [
        "a = tf.constant([[2,3]])\n",
        "print(a)"
      ],
      "execution_count": 48,
      "outputs": [
        {
          "output_type": "stream",
          "text": [
            "tf.Tensor([[2 3]], shape=(1, 2), dtype=int32)\n"
          ],
          "name": "stdout"
        }
      ]
    },
    {
      "metadata": {
        "id": "mn8uX4t5FtHp",
        "colab_type": "text"
      },
      "cell_type": "markdown",
      "source": [
        "A constant tensor is immutable so you cannot assign a new value to it."
      ]
    },
    {
      "metadata": {
        "id": "xrJqeZfgHU-j",
        "colab_type": "code",
        "colab": {
          "base_uri": "https://localhost:8080/",
          "height": 34
        },
        "outputId": "568d5cea-72ff-4cba-8493-66a066857ac7"
      },
      "cell_type": "code",
      "source": [
        "try:\n",
        "  a.assign([[3,4]])\n",
        "except:\n",
        "  print('Exception raised: Constant tensor is immutable ')"
      ],
      "execution_count": 50,
      "outputs": [
        {
          "output_type": "stream",
          "text": [
            "Exception raised: Constant tensor is immutable \n"
          ],
          "name": "stdout"
        }
      ]
    },
    {
      "metadata": {
        "id": "lrgbhCu8H3rm",
        "colab_type": "text"
      },
      "cell_type": "markdown",
      "source": [
        "On the other hand variables are mutable and can be assigned a new value"
      ]
    },
    {
      "metadata": {
        "id": "WSMIotOQFw2F",
        "colab_type": "code",
        "colab": {
          "base_uri": "https://localhost:8080/",
          "height": 51
        },
        "outputId": "6f569d66-1f85-4f6c-85af-a132a680bdfb"
      },
      "cell_type": "code",
      "source": [
        "v = tf.Variable(5.)\n",
        "\n",
        "print('Old value for v =', v.numpy())\n",
        "v.assign(2.)\n",
        "print('New value for v =', v.numpy())"
      ],
      "execution_count": 51,
      "outputs": [
        {
          "output_type": "stream",
          "text": [
            "Old value for v = 5.0\n",
            "New value for v = 2.0\n"
          ],
          "name": "stdout"
        }
      ]
    },
    {
      "metadata": {
        "id": "se0MFrEwMXWo",
        "colab_type": "text"
      },
      "cell_type": "markdown",
      "source": [
        "You can also increment/decrement the value of a tensor "
      ]
    },
    {
      "metadata": {
        "id": "d9M50PpdMzEn",
        "colab_type": "code",
        "colab": {
          "base_uri": "https://localhost:8080/",
          "height": 68
        },
        "outputId": "bacea3c7-6320-4347-f0c2-80f67931a1c5"
      },
      "cell_type": "code",
      "source": [
        "v.assign(2.)\n",
        "print('value     : ', v.numpy())\n",
        "print('increment : ', tf.assign_add(v, 1).numpy())\n",
        "print('decrement : ', tf.assign_sub(v, 1).numpy())"
      ],
      "execution_count": 52,
      "outputs": [
        {
          "output_type": "stream",
          "text": [
            "value     :  2.0\n",
            "increment :  3.0\n",
            "decrement :  2.0\n"
          ],
          "name": "stdout"
        }
      ]
    },
    {
      "metadata": {
        "id": "FtGAYUUWI8bX",
        "colab_type": "text"
      },
      "cell_type": "markdown",
      "source": [
        "You can return many information from a tensor variable, like the name, type , shape and what device it executes on. "
      ]
    },
    {
      "metadata": {
        "id": "2wQMtx3QJBSg",
        "colab_type": "code",
        "colab": {
          "base_uri": "https://localhost:8080/",
          "height": 85
        },
        "outputId": "afbd76d0-4c9b-4aa9-ad2c-84d5655ae540"
      },
      "cell_type": "code",
      "source": [
        "print('name  : ', v.name)\n",
        "print('type  : ', v.dtype)\n",
        "print('shape : ', v.shape)\n",
        "print('device: ', v.device)"
      ],
      "execution_count": 53,
      "outputs": [
        {
          "output_type": "stream",
          "text": [
            "name  :  Variable:0\n",
            "type  :  <dtype: 'float32'>\n",
            "shape :  ()\n",
            "device:  /job:localhost/replica:0/task:0/device:GPU:0\n"
          ],
          "name": "stdout"
        }
      ]
    },
    {
      "metadata": {
        "id": "5irSm-yDN0nV",
        "colab_type": "text"
      },
      "cell_type": "markdown",
      "source": [
        "# Gradient Evaluation"
      ]
    },
    {
      "metadata": {
        "id": "y36ig_TVAAoM",
        "colab_type": "text"
      },
      "cell_type": "markdown",
      "source": [
        "Gradient evaluation is very importnat machine learning because it is based on function optimization. You can use `tf.GradientTape()` method to record the gradient of an arbitrary function"
      ]
    },
    {
      "metadata": {
        "id": "bdZmXyAi_3M3",
        "colab_type": "code",
        "colab": {
          "base_uri": "https://localhost:8080/",
          "height": 34
        },
        "outputId": "3dd98aaf-f042-4b77-eb4c-f958f6b81121"
      },
      "cell_type": "code",
      "source": [
        "w = tf.Variable(2.0)\n",
        "\n",
        "#watch the gradient of the loss operation\n",
        "with tf.GradientTape() as tape:\n",
        "  loss = w * w\n",
        "\n",
        "grad = tape.gradient(loss, w)\n",
        "print(f'The gradient of w^2 at {w.numpy()} is {grad.numpy()}')"
      ],
      "execution_count": 54,
      "outputs": [
        {
          "output_type": "stream",
          "text": [
            "The gradient of w^2 at 2.0 is 4.0\n"
          ],
          "name": "stdout"
        }
      ]
    },
    {
      "metadata": {
        "id": "qEMEMfV8Pwvt",
        "colab_type": "text"
      },
      "cell_type": "markdown",
      "source": [
        "You also compute the gradient directly using `gradients_function`. In this example we evaluate the gradient of the sigmoid function \n",
        "\n",
        "$$f(x) = \\frac{1}{1+e^{-x}}$$\n",
        "\n",
        "Note that \n",
        "\n",
        "$$f'(x) = \\frac{e^{-x}}{(1+e^{-x})^2} = f(x)(1-f(x)) $$"
      ]
    },
    {
      "metadata": {
        "id": "nrw-DuoWP0A6",
        "colab_type": "code",
        "colab": {
          "base_uri": "https://localhost:8080/",
          "height": 34
        },
        "outputId": "88fb656d-5f70-4176-a0b0-d913f62a699d"
      },
      "cell_type": "code",
      "source": [
        "import tensorflow.contrib.eager as tfe \n",
        "\n",
        "def sigmoid(x):\n",
        "  return 1/(1 + tf.exp(-x))\n",
        "\n",
        "grad_sigmoid = tfe.gradients_function(sigmoid)\n",
        "\n",
        "print('The gradient of the sigmoid function at 2.0 is ', grad_sigmoid(2.0)[0].numpy())"
      ],
      "execution_count": 55,
      "outputs": [
        {
          "output_type": "stream",
          "text": [
            "The gradient of the sigmoid function at 2.0 is  0.104993574\n"
          ],
          "name": "stdout"
        }
      ]
    },
    {
      "metadata": {
        "id": "Jew_BsZaYeVz",
        "colab_type": "text"
      },
      "cell_type": "markdown",
      "source": [
        "You can also compute higher order derivatives by nesting a gradient functions. For instance, \n",
        "\n",
        "$$f(x) = \\log(x) , f'(x) = \\frac{1}{x}, f''(x) = \\frac{-1}{x^2}$$"
      ]
    },
    {
      "metadata": {
        "id": "UoFFIr_AXUnm",
        "colab_type": "code",
        "colab": {
          "base_uri": "https://localhost:8080/",
          "height": 68
        },
        "outputId": "c4a2c8ca-243f-4abd-a551-42faaa5c57b1"
      },
      "cell_type": "code",
      "source": [
        "dx = tfe.gradients_function\n",
        "\n",
        "def log(x):\n",
        "  return tf.log(x)\n",
        "\n",
        "dx_log = dx(log)\n",
        "dx2_log = dx(dx(log))\n",
        "dx3_log = dx(dx(dx(log)))\n",
        "\n",
        "print('The first  derivative of log at x = 1 is ', dx_log(1.)[0].numpy())\n",
        "print('The second derivative of log at x = 1 is ', dx2_log(1.)[0].numpy())\n",
        "print('The third  derivative of log at x = 1 is ', dx3_log(1.)[0].numpy())"
      ],
      "execution_count": 56,
      "outputs": [
        {
          "output_type": "stream",
          "text": [
            "The first  derivative of log at x = 1 is  1.0\n",
            "The second derivative of log at x = 1 is  -1.0\n",
            "The third  derivative of log at x = 1 is  2.0\n"
          ],
          "name": "stdout"
        }
      ]
    },
    {
      "metadata": {
        "id": "hBVnUE6DRDFw",
        "colab_type": "text"
      },
      "cell_type": "markdown",
      "source": [
        "# Custom Gradients\n",
        "\n",
        "Some times the gradient is not what we want espeically if there is a problem in numerical instabilitiy. Consider the following function and its gradient \n",
        "\n",
        "$$f(x) = \\log(1+e^x)$$\n",
        "\n",
        "The gradient is \n",
        "\n",
        "$$f'(x) = \\frac{e^x}{1+e^x}$$\n",
        "\n",
        "Note that at big values of $x$ the gradient value will blow up."
      ]
    },
    {
      "metadata": {
        "id": "autHEivlRp9M",
        "colab_type": "code",
        "colab": {
          "base_uri": "https://localhost:8080/",
          "height": 51
        },
        "outputId": "dcb4454a-cf6c-483c-90a2-0ab48a6a8fc6"
      },
      "cell_type": "code",
      "source": [
        "def logexp(x):\n",
        "  return tf.log(1 + tf.exp(x))\n",
        "grad_logexp = tfe.gradients_function(logexp)\n",
        "\n",
        "print('The gradient at x = 0  is ', grad_logexp(0.)[0].numpy())  \n",
        "\n",
        "print('The gradient at x = 100 is ', grad_logexp(100.)[0].numpy()) "
      ],
      "execution_count": 57,
      "outputs": [
        {
          "output_type": "stream",
          "text": [
            "The gradient at x = 0  is  0.5\n",
            "The gradient at x = 100 is  nan\n"
          ],
          "name": "stdout"
        }
      ]
    },
    {
      "metadata": {
        "id": "c19m7XawUR1a",
        "colab_type": "text"
      },
      "cell_type": "markdown",
      "source": [
        " We can revaluate the gradient by overriding the gradient of the function. We can recompute the gradient as \n",
        "\n",
        "$$f(x) =  \\frac{1+e^x -e^x }{1+e^x} = 1 - \\frac{1}{1 + e^{x}}$$"
      ]
    },
    {
      "metadata": {
        "id": "EmPT2S6XUJ8C",
        "colab_type": "code",
        "colab": {
          "base_uri": "https://localhost:8080/",
          "height": 34
        },
        "outputId": "6ebebfcc-0493-454e-e27d-78f9ee40dbb1"
      },
      "cell_type": "code",
      "source": [
        "@tf.custom_gradient\n",
        "def logexp_stable(x):\n",
        "  e = tf.exp(x)\n",
        "  #dy is optional, allows computation of vector jacobian products for vectors other than the vector of ones.\n",
        "  def grad(dy):\n",
        "    return dy * (1 - 1 / (1 + e))\n",
        "  return tf.log(1 + e), grad\n",
        "\n",
        "grad_logexp_stable = tfe.gradients_function(logexp_stable)\n",
        "\n",
        "print('The gradient at x = 100 is ', grad_logexp_stable(100.)[0].numpy()) "
      ],
      "execution_count": 58,
      "outputs": [
        {
          "output_type": "stream",
          "text": [
            "The gradient at x = 100 is  1.0\n"
          ],
          "name": "stdout"
        }
      ]
    },
    {
      "metadata": {
        "id": "WhLnr59mdFh2",
        "colab_type": "text"
      },
      "cell_type": "markdown",
      "source": [
        "# Execution Callbacks"
      ]
    },
    {
      "metadata": {
        "id": "vF0MR4mPdduw",
        "colab_type": "text"
      },
      "cell_type": "markdown",
      "source": [
        "`add_execution_callback` can be used to monitor the execution of operations. These functions will be called when any function is executed eagerly. In this example we record the operation names."
      ]
    },
    {
      "metadata": {
        "id": "a3ybT2GPdLqU",
        "colab_type": "code",
        "colab": {
          "base_uri": "https://localhost:8080/",
          "height": 51
        },
        "outputId": "3cedc45c-e14e-45a2-88a8-b6361d8d033e"
      },
      "cell_type": "code",
      "source": [
        "#create a callback that records the operation name \n",
        "def print_op(op_type, op_name, attrs, inputs, outputs):\n",
        "  print(op_type)\n",
        "  \n",
        "#clear previous callbacks\n",
        "tfe.clear_execution_callbacks() \n",
        "\n",
        "#add the callback \n",
        "tfe.add_execution_callback(print_op)\n",
        "\n",
        "#try runing an operation \n",
        "x = tf.pow(2.0, 3.0) - 3.0\n",
        "\n",
        "#clear the callback \n",
        "tfe.clear_execution_callbacks() "
      ],
      "execution_count": 59,
      "outputs": [
        {
          "output_type": "stream",
          "text": [
            "Pow\n",
            "Sub\n"
          ],
          "name": "stdout"
        }
      ]
    },
    {
      "metadata": {
        "id": "qofbAYzRO3IW",
        "colab_type": "text"
      },
      "cell_type": "markdown",
      "source": [
        "# Object Oriented Metrics\n",
        "You can use `metrics` to record tensors/values and operate on them at the end. This is useful when recording the training history and you want to evaluate it at the end. Use `.result()` to evaluate the metric at the end. "
      ]
    },
    {
      "metadata": {
        "id": "u4DkG8BBO74o",
        "colab_type": "code",
        "colab": {
          "base_uri": "https://localhost:8080/",
          "height": 34
        },
        "outputId": "ebcc7cda-5dad-4052-d680-882af8a77d79"
      },
      "cell_type": "code",
      "source": [
        "m = tfe.metrics.Mean(\"loss\")\n",
        "\n",
        "#record the loss \n",
        "m(2)\n",
        "m(4)\n",
        "\n",
        "print('The mean loss is ', m.result().numpy())"
      ],
      "execution_count": 60,
      "outputs": [
        {
          "output_type": "stream",
          "text": [
            "The mean loss is  3.0\n"
          ],
          "name": "stdout"
        }
      ]
    },
    {
      "metadata": {
        "id": "erOTyJXWbHNJ",
        "colab_type": "text"
      },
      "cell_type": "markdown",
      "source": [
        "If you want to remove the recorded values, you can reinstintiate the variables "
      ]
    },
    {
      "metadata": {
        "id": "VJ20YHw9bILA",
        "colab_type": "code",
        "colab": {
          "base_uri": "https://localhost:8080/",
          "height": 34
        },
        "outputId": "93e6c3b1-bd16-4d0e-d5be-8720b9642476"
      },
      "cell_type": "code",
      "source": [
        "m.init_variables()\n",
        "print('The mean loss is ', m.result().numpy())"
      ],
      "execution_count": 61,
      "outputs": [
        {
          "output_type": "stream",
          "text": [
            "The mean loss is  nan\n"
          ],
          "name": "stdout"
        }
      ]
    },
    {
      "metadata": {
        "id": "hbIHKtEEbujP",
        "colab_type": "text"
      },
      "cell_type": "markdown",
      "source": [
        "# Linear Regression \n",
        "\n",
        "This example is refactored from https://www.tensorflow.org/guide/eager. We create a complete example of using linear regression to predict the paramters of the function \n",
        "\n",
        "$$f(x) = 3 x + 2 + noise$$\n",
        "\n",
        "Given a point $x$ we want to predict the value of $y$. We train the model on 1000 data pairs $(x,f(x))$. \n",
        "\n",
        "The model to learn is a linear model \n",
        "\n",
        "$$\\hat{y} = W x + b$$\n",
        "\n",
        "Note that, we use `tf.GradientTape` to record the gradient with respect our trainable paramters.  \n",
        "\n",
        "We MSE to calcuate the loss \n",
        "\n",
        "$$g = (y-\\hat{y})^2$$\n",
        "\n",
        "We use Gradient Descent to update the paramters \n",
        "\n",
        "$$W = W - \\alpha  \\frac{\\partial g}{\\partial W}$$\n",
        "\n",
        "$$b = b - \\alpha  \\frac{\\partial g}{\\partial b}$$"
      ]
    },
    {
      "metadata": {
        "id": "P7A5lcylAERT",
        "colab_type": "code",
        "colab": {
          "base_uri": "https://localhost:8080/",
          "height": 204
        },
        "outputId": "5d5b6f5f-7ff9-42d5-bbd6-43a5fae070e2"
      },
      "cell_type": "code",
      "source": [
        "#1000 data points \n",
        "NUM_EXAMPLES = 1000\n",
        "\n",
        "#define inputs and outputs with some noise \n",
        "X = tf.random_normal([NUM_EXAMPLES])  #inputs \n",
        "noise = tf.random_normal([NUM_EXAMPLES]) #noise \n",
        "y = X * 3 + 2 + noise  #true output\n",
        "\n",
        "#create model paramters with initial values \n",
        "W = tf.Variable(0.)\n",
        "b = tf.Variable(0.)\n",
        "\n",
        "#training info\n",
        "train_steps = 200\n",
        "learning_rate = 0.01\n",
        "\n",
        "for i in range(train_steps):\n",
        "  \n",
        "  #watch the gradient flow \n",
        "  with tf.GradientTape() as tape:\n",
        "    \n",
        "    #forward pass \n",
        "    yhat = X * W + b\n",
        "    \n",
        "    #calcuate the loss (difference squared error)\n",
        "    error = yhat - y\n",
        "    loss = tf.reduce_mean(tf.square(error))\n",
        "  \n",
        "  #evalute the gradient with the respect to the paramters\n",
        "  dW, db = tape.gradient(loss, [W, b])\n",
        "\n",
        "  #update the paramters using Gradient Descent  \n",
        "  W.assign_sub(dW * learning_rate)\n",
        "  b.assign_sub(db* learning_rate)\n",
        "\n",
        "  #print the loss every 20 iterations \n",
        "  if i % 20 == 0:\n",
        "    print(\"Loss at step {:03d}: {:.3f}\".format(i, loss))\n",
        "      \n",
        "print(f'W : {W.numpy()} , b  = {b.numpy()} ')"
      ],
      "execution_count": 22,
      "outputs": [
        {
          "output_type": "stream",
          "text": [
            "Loss at step 000: 14.221\n",
            "Loss at step 020: 6.771\n",
            "Loss at step 040: 3.509\n",
            "Loss at step 060: 2.079\n",
            "Loss at step 080: 1.451\n",
            "Loss at step 100: 1.176\n",
            "Loss at step 120: 1.055\n",
            "Loss at step 140: 1.002\n",
            "Loss at step 160: 0.979\n",
            "Loss at step 180: 0.968\n",
            "W : 2.9381508827209473 , b  = 1.9863694906234741 \n"
          ],
          "name": "stdout"
        }
      ]
    },
    {
      "metadata": {
        "id": "JE8BnpyA7kfZ",
        "colab_type": "text"
      },
      "cell_type": "markdown",
      "source": [
        "# A Simple CNN\n",
        "\n",
        "Here we create a simple convolutional neural network (CNN)to recognize hand-written digits (MNIST). We start by creating a simple alexnet CNN model. \n",
        "\n",
        "![alt text](https://i.imgur.com/twUKrlo.png)"
      ]
    },
    {
      "metadata": {
        "id": "5nJYdULqiee7",
        "colab_type": "code",
        "colab": {}
      },
      "cell_type": "code",
      "source": [
        "from tensorflow.keras.layers import Dense, Convolution2D, MaxPooling2D, Flatten, BatchNormalization, Dropout\n",
        "from tensorflow.keras.models import Sequential"
      ],
      "execution_count": 0,
      "outputs": []
    },
    {
      "metadata": {
        "id": "_cuZWAmejXH4",
        "colab_type": "code",
        "colab": {}
      },
      "cell_type": "code",
      "source": [
        "def create_model():\n",
        "  model = Sequential()\n",
        "  model.add(Convolution2D(filters = 16, kernel_size = 3, padding = 'same', input_shape = [28, 28, 1], activation = 'relu'))\n",
        "  model.add(MaxPooling2D(pool_size = (2,2)))\n",
        "  model.add(BatchNormalization())\n",
        "  model.add(Convolution2D(filters = 32, kernel_size = 3, padding = 'same', activation = 'relu'))\n",
        "  model.add(MaxPooling2D(pool_size = (2,2)))\n",
        "  model.add(BatchNormalization())\n",
        "  model.add(Flatten())\n",
        "  model.add(Dense(units = 100, activation = 'relu'))\n",
        "  model.add(Dropout(0.5))\n",
        "  model.add(Dense(units = 10 , activation = 'softmax'))\n",
        "  return model"
      ],
      "execution_count": 0,
      "outputs": []
    },
    {
      "metadata": {
        "id": "YkEgDGCmO7_i",
        "colab_type": "text"
      },
      "cell_type": "markdown",
      "source": [
        "## Create the model "
      ]
    },
    {
      "metadata": {
        "id": "LvTw6rrnkiMI",
        "colab_type": "code",
        "colab": {
          "base_uri": "https://localhost:8080/",
          "height": 476
        },
        "outputId": "d84583ab-bcfe-4a89-b43e-064eeb52852d"
      },
      "cell_type": "code",
      "source": [
        "model = create_model()\n",
        "model.summary()"
      ],
      "execution_count": 25,
      "outputs": [
        {
          "output_type": "stream",
          "text": [
            "_________________________________________________________________\n",
            "Layer (type)                 Output Shape              Param #   \n",
            "=================================================================\n",
            "conv2d (Conv2D)              (None, 28, 28, 16)        160       \n",
            "_________________________________________________________________\n",
            "max_pooling2d (MaxPooling2D) (None, 14, 14, 16)        0         \n",
            "_________________________________________________________________\n",
            "batch_normalization (BatchNo (None, 14, 14, 16)        64        \n",
            "_________________________________________________________________\n",
            "conv2d_1 (Conv2D)            (None, 14, 14, 32)        4640      \n",
            "_________________________________________________________________\n",
            "max_pooling2d_1 (MaxPooling2 (None, 7, 7, 32)          0         \n",
            "_________________________________________________________________\n",
            "batch_normalization_1 (Batch (None, 7, 7, 32)          128       \n",
            "_________________________________________________________________\n",
            "flatten (Flatten)            (None, 1568)              0         \n",
            "_________________________________________________________________\n",
            "dense (Dense)                (None, 100)               156900    \n",
            "_________________________________________________________________\n",
            "dropout (Dropout)            (None, 100)               0         \n",
            "_________________________________________________________________\n",
            "dense_1 (Dense)              (None, 10)                1010      \n",
            "=================================================================\n",
            "Total params: 162,902\n",
            "Trainable params: 162,806\n",
            "Non-trainable params: 96\n",
            "_________________________________________________________________\n"
          ],
          "name": "stdout"
        }
      ]
    },
    {
      "metadata": {
        "id": "w8xMs3nh5cw2",
        "colab_type": "text"
      },
      "cell_type": "markdown",
      "source": [
        "Look at the output by frowarding a batch of zero images. "
      ]
    },
    {
      "metadata": {
        "id": "ZilarnvZ5cDS",
        "colab_type": "code",
        "colab": {
          "base_uri": "https://localhost:8080/",
          "height": 204
        },
        "outputId": "1f3f74ea-b455-46b0-bc7d-15049eb3e160"
      },
      "cell_type": "code",
      "source": [
        "import numpy as np\n",
        "model(np.zeros((10, 28, 28, 1), np.float32))"
      ],
      "execution_count": 26,
      "outputs": [
        {
          "output_type": "execute_result",
          "data": {
            "text/plain": [
              "<tf.Tensor: id=7651, shape=(10, 10), dtype=float32, numpy=\n",
              "array([[0.1, 0.1, 0.1, 0.1, 0.1, 0.1, 0.1, 0.1, 0.1, 0.1],\n",
              "       [0.1, 0.1, 0.1, 0.1, 0.1, 0.1, 0.1, 0.1, 0.1, 0.1],\n",
              "       [0.1, 0.1, 0.1, 0.1, 0.1, 0.1, 0.1, 0.1, 0.1, 0.1],\n",
              "       [0.1, 0.1, 0.1, 0.1, 0.1, 0.1, 0.1, 0.1, 0.1, 0.1],\n",
              "       [0.1, 0.1, 0.1, 0.1, 0.1, 0.1, 0.1, 0.1, 0.1, 0.1],\n",
              "       [0.1, 0.1, 0.1, 0.1, 0.1, 0.1, 0.1, 0.1, 0.1, 0.1],\n",
              "       [0.1, 0.1, 0.1, 0.1, 0.1, 0.1, 0.1, 0.1, 0.1, 0.1],\n",
              "       [0.1, 0.1, 0.1, 0.1, 0.1, 0.1, 0.1, 0.1, 0.1, 0.1],\n",
              "       [0.1, 0.1, 0.1, 0.1, 0.1, 0.1, 0.1, 0.1, 0.1, 0.1],\n",
              "       [0.1, 0.1, 0.1, 0.1, 0.1, 0.1, 0.1, 0.1, 0.1, 0.1]], dtype=float32)>"
            ]
          },
          "metadata": {
            "tags": []
          },
          "execution_count": 26
        }
      ]
    },
    {
      "metadata": {
        "id": "ZSXNAsM0O9-E",
        "colab_type": "text"
      },
      "cell_type": "markdown",
      "source": [
        "## Load MNIST dataset"
      ]
    },
    {
      "metadata": {
        "id": "fQxLk3_Lk3OP",
        "colab_type": "code",
        "colab": {
          "base_uri": "https://localhost:8080/",
          "height": 51
        },
        "outputId": "4d7547d4-58f7-492d-e690-fec07e21d5dc"
      },
      "cell_type": "code",
      "source": [
        "(x_train, y_train), (x_test, y_test) = tf.keras.datasets.mnist.load_data()"
      ],
      "execution_count": 27,
      "outputs": [
        {
          "output_type": "stream",
          "text": [
            "Downloading data from https://storage.googleapis.com/tensorflow/tf-keras-datasets/mnist.npz\n",
            "11493376/11490434 [==============================] - 0s 0us/step\n"
          ],
          "name": "stdout"
        }
      ]
    },
    {
      "metadata": {
        "id": "K00wu_RI547V",
        "colab_type": "text"
      },
      "cell_type": "markdown",
      "source": [
        "Look at the data"
      ]
    },
    {
      "metadata": {
        "id": "vAuOTfX756oz",
        "colab_type": "code",
        "colab": {
          "base_uri": "https://localhost:8080/",
          "height": 364
        },
        "outputId": "e8592695-87a9-493b-b2e5-887de62f0040"
      },
      "cell_type": "code",
      "source": [
        "import matplotlib.pyplot as plt\n",
        "print('The label is ',y_train[0])\n",
        "plt.imshow(x_train[0])\n",
        "plt.show()"
      ],
      "execution_count": 28,
      "outputs": [
        {
          "output_type": "stream",
          "text": [
            "The label is  5\n"
          ],
          "name": "stdout"
        },
        {
          "output_type": "display_data",
          "data": {
            "image/png": "[encoded data removed]",
            "text/plain": [
              "<matplotlib.figure.Figure at 0x7f2e8a2cf080>"
            ]
          },
          "metadata": {
            "tags": []
          }
        }
      ]
    },
    {
      "metadata": {
        "id": "cWB0w1IfPAsu",
        "colab_type": "text"
      },
      "cell_type": "markdown",
      "source": [
        "## Preprcocessing the dataset "
      ]
    },
    {
      "metadata": {
        "id": "9iVSk1i_ldCG",
        "colab_type": "code",
        "colab": {}
      },
      "cell_type": "code",
      "source": [
        "import numpy as np\n",
        "\n",
        "N = x_train.shape[0]\n",
        "\n",
        "#normalization and convert to batch input \n",
        "x_train = tf.expand_dims(np.float32(x_train)/ 255., 3)\n",
        "x_test  = tf.expand_dims(np.float32(x_test )/ 255., 3)\n",
        "\n",
        "#one hot encoding\n",
        "y_train = tf.one_hot(y_train, 10)\n",
        "y_test  = tf.one_hot(y_test , 10)"
      ],
      "execution_count": 0,
      "outputs": []
    },
    {
      "metadata": {
        "id": "LhmXmozJPKuj",
        "colab_type": "text"
      },
      "cell_type": "markdown",
      "source": [
        "## Get Random Batch"
      ]
    },
    {
      "metadata": {
        "id": "QAtM7bV4lOgh",
        "colab_type": "code",
        "colab": {}
      },
      "cell_type": "code",
      "source": [
        "import numpy as np\n",
        "def get_batch(batch_size = 32):\n",
        "  r = np.random.randint(0, N-batch_size)\n",
        "  return x_train[r: r + batch_size], y_train[r: r + batch_size]"
      ],
      "execution_count": 0,
      "outputs": []
    },
    {
      "metadata": {
        "id": "nIRZj1pyPnbJ",
        "colab_type": "text"
      },
      "cell_type": "markdown",
      "source": [
        "## Design the loss function, Gradient and Accuracy metric"
      ]
    },
    {
      "metadata": {
        "id": "6ERHfE-Z4KvV",
        "colab_type": "code",
        "colab": {}
      },
      "cell_type": "code",
      "source": [
        "#evaluate the loss\n",
        "def loss(model, x, y):\n",
        "  prediction = model(x)\n",
        "  return tf.losses.softmax_cross_entropy(y, logits=prediction)\n",
        "\n",
        "#record the gradient with respect to the model variables \n",
        "def grad(model, x, y):\n",
        "  with tf.GradientTape() as tape:\n",
        "    loss_value = loss(model, x, y)\n",
        "  return tape.gradient(loss_value, model.variables)\n",
        "\n",
        "#calcuate the accuracy of the model \n",
        "def accuracy(model, x, y):\n",
        "  \n",
        "  #prediction\n",
        "  yhat = model(x)\n",
        "  \n",
        "  #get the labels of the predicted values \n",
        "  yhat = tf.argmax(yhat, 1).numpy()\n",
        "  \n",
        "  #get the labels of the true values\n",
        "  y    = tf.argmax(y   , 1).numpy()\n",
        "  return np.sum(y == yhat)/len(y)"
      ],
      "execution_count": 0,
      "outputs": []
    },
    {
      "metadata": {
        "id": "yw-Mk_nJP0vp",
        "colab_type": "text"
      },
      "cell_type": "markdown",
      "source": [
        "## Intitalize the variables"
      ]
    },
    {
      "metadata": {
        "id": "6UXs1mEKSRwe",
        "colab_type": "code",
        "colab": {}
      },
      "cell_type": "code",
      "source": [
        "i = 1 \n",
        "\n",
        "batch_size = 64 \n",
        "epoch_length = N // batch_size\n",
        "epoch = 0 \n",
        "epochs = 5 \n",
        "\n",
        "#use Adam optimizer \n",
        "optimizer = tf.train.AdamOptimizer()\n",
        "\n",
        "#record epoch loss and accuracy  \n",
        "loss_history = tfe.metrics.Mean(\"loss\")\n",
        "accuracy_history = tfe.metrics.Mean(\"accuracy\")"
      ],
      "execution_count": 0,
      "outputs": []
    },
    {
      "metadata": {
        "id": "Xm5mBuUOSQwg",
        "colab_type": "text"
      },
      "cell_type": "markdown",
      "source": [
        "## Training"
      ]
    },
    {
      "metadata": {
        "id": "XUx2dlTirg_t",
        "colab_type": "code",
        "colab": {
          "base_uri": "https://localhost:8080/",
          "height": 102
        },
        "outputId": "99859548-8a48-4003-9c08-fe8c98c2132f"
      },
      "cell_type": "code",
      "source": [
        "while epoch < epochs:\n",
        "  #get next batch\n",
        "  x, y = get_batch(batch_size = batch_size)\n",
        "\n",
        "  # Calculate derivatives of the input function with respect to its parameters.\n",
        "  grads = grad(model, x, y)\n",
        "\n",
        "  # Apply the gradient to the model\n",
        "  optimizer.apply_gradients(zip(grads, model.variables),\n",
        "                            global_step=tf.train.get_or_create_global_step())\n",
        "  \n",
        "  #record the current loss and accuracy   \n",
        "  loss_history(loss(model, x, y))\n",
        "  accuracy_history(accuracy(model, x, y))\n",
        "  \n",
        "  if i % epoch_length == 0:\n",
        "    print(\"epoch: {:d} Loss: {:.3f}, Acc: {:.3f}\".format(epoch, loss_history.result(), accuracy_history.result()))\n",
        "    \n",
        "    #clear the history \n",
        "    loss_history.init_variables()\n",
        "    accuracy_history.init_variables()\n",
        "    \n",
        "    epoch += 1\n",
        "    \n",
        "  i += 1"
      ],
      "execution_count": 33,
      "outputs": [
        {
          "output_type": "stream",
          "text": [
            "epoch: 0 Loss: 1.540, Acc: 0.930\n",
            "epoch: 1 Loss: 1.484, Acc: 0.980\n",
            "epoch: 2 Loss: 1.477, Acc: 0.985\n",
            "epoch: 3 Loss: 1.473, Acc: 0.989\n",
            "epoch: 4 Loss: 1.471, Acc: 0.990\n"
          ],
          "name": "stdout"
        }
      ]
    },
    {
      "metadata": {
        "id": "onYJgb64Yct-",
        "colab_type": "text"
      },
      "cell_type": "markdown",
      "source": [
        "## Testing"
      ]
    },
    {
      "metadata": {
        "id": "Xdk9lG-sB6Y5",
        "colab_type": "code",
        "colab": {
          "base_uri": "https://localhost:8080/",
          "height": 34
        },
        "outputId": "e1258b8c-0210-494f-f3bd-c82565d1621e"
      },
      "cell_type": "code",
      "source": [
        "accuracy(model, x_test, y_test)"
      ],
      "execution_count": 34,
      "outputs": [
        {
          "output_type": "execute_result",
          "data": {
            "text/plain": [
              "0.9835"
            ]
          },
          "metadata": {
            "tags": []
          },
          "execution_count": 34
        }
      ]
    },
    {
      "metadata": {
        "id": "VKtzhgMYNxFr",
        "colab_type": "text"
      },
      "cell_type": "markdown",
      "source": [
        "# Save and Restore a Model\n",
        "You can save training history then restore it later. "
      ]
    },
    {
      "metadata": {
        "id": "Ci3mmDTLM7oI",
        "colab_type": "code",
        "colab": {
          "base_uri": "https://localhost:8080/",
          "height": 34
        },
        "outputId": "da610182-a85a-4b47-87c3-103d9226e1ff"
      },
      "cell_type": "code",
      "source": [
        "#create a directory for saving the model\n",
        "import os \n",
        "checkpoint_dir = 'model'\n",
        "os.mkdir(checkpoint_dir)\n",
        "\n",
        "#create a root for the checkpoint\n",
        "checkpoint_prefix = os.path.join(checkpoint_dir, \"ckpt\")\n",
        "root = tf.train.Checkpoint(optimizer=optimizer,\n",
        "                           model=model,\n",
        "                           optimizer_step=tf.train.get_or_create_global_step())\n",
        "\n",
        "#save the model \n",
        "root.save(file_prefix=checkpoint_prefix)"
      ],
      "execution_count": 35,
      "outputs": [
        {
          "output_type": "execute_result",
          "data": {
            "text/plain": [
              "'model/ckpt-1'"
            ]
          },
          "metadata": {
            "tags": []
          },
          "execution_count": 35
        }
      ]
    },
    {
      "metadata": {
        "id": "SMkTMzQjUjYy",
        "colab_type": "text"
      },
      "cell_type": "markdown",
      "source": [
        "Restore the model "
      ]
    },
    {
      "metadata": {
        "id": "AHFYo3Z-UPG0",
        "colab_type": "code",
        "colab": {
          "base_uri": "https://localhost:8080/",
          "height": 51
        },
        "outputId": "db12ce08-0e98-4b10-f482-936d4ceccaf7"
      },
      "cell_type": "code",
      "source": [
        "#create an empty model \n",
        "model = create_model()\n",
        "\n",
        "#accuracy of the empty model \n",
        "print('accuracy before retrieving the model ',accuracy(model, x_test, y_test))\n",
        "\n",
        "#create a checkpoint variable \n",
        "root = tf.train.Checkpoint(optimizer=optimizer,\n",
        "                           model=create_model(),\n",
        "                           optimizer_step=tf.train.get_or_create_global_step())\n",
        "\n",
        "#restore the model\n",
        "root.restore(tf.train.latest_checkpoint(checkpoint_dir))\n",
        "\n",
        "#retrieve the trained model \n",
        "model = root.model \n",
        "\n",
        "print('accuracy after retrieving the model ',accuracy(model, x_test, y_test))"
      ],
      "execution_count": 36,
      "outputs": [
        {
          "output_type": "stream",
          "text": [
            "accuracy before retrieving the model  0.1045\n",
            "accuracy after retrieving the model  0.9835\n"
          ],
          "name": "stdout"
        }
      ]
    },
    {
      "metadata": {
        "id": "LeJDAuS0-eZq",
        "colab_type": "text"
      },
      "cell_type": "markdown",
      "source": [
        "# Compiling Functions into Callable Graph\n",
        "`defun`  trace-compiles a Python function composed of TensorFlow operations into a callable that executes a `tf.Graph` containing those operations."
      ]
    },
    {
      "metadata": {
        "id": "K8v-qLzi_8YH",
        "colab_type": "code",
        "colab": {}
      },
      "cell_type": "code",
      "source": [
        "# A simple example.\n",
        "def f(x):\n",
        "  return tf.square(x)\n",
        "\n",
        "#callable graph function\n",
        "g = tfe.defun(f)"
      ],
      "execution_count": 0,
      "outputs": []
    },
    {
      "metadata": {
        "id": "cuC-reooBdIh",
        "colab_type": "code",
        "colab": {
          "base_uri": "https://localhost:8080/",
          "height": 34
        },
        "outputId": "d1d52e74-f0de-4edc-a20f-6fd22ba9d416"
      },
      "cell_type": "code",
      "source": [
        "x = tf.constant(3.)\n",
        "g(x).numpy()"
      ],
      "execution_count": 38,
      "outputs": [
        {
          "output_type": "execute_result",
          "data": {
            "text/plain": [
              "9.0"
            ]
          },
          "metadata": {
            "tags": []
          },
          "execution_count": 38
        }
      ]
    },
    {
      "metadata": {
        "id": "pFa2w7veDQXv",
        "colab_type": "text"
      },
      "cell_type": "markdown",
      "source": [
        "Alternatively, you can can use the following "
      ]
    },
    {
      "metadata": {
        "id": "OTNmSBfrClko",
        "colab_type": "code",
        "colab": {}
      },
      "cell_type": "code",
      "source": [
        "@tf.contrib.eager.defun\n",
        "def s(x):\n",
        "  return 1/(1+tf.exp(-x))"
      ],
      "execution_count": 0,
      "outputs": []
    },
    {
      "metadata": {
        "id": "QvsSXn7_DkzG",
        "colab_type": "code",
        "colab": {
          "base_uri": "https://localhost:8080/",
          "height": 34
        },
        "outputId": "dad6c79b-0970-45b7-a8a7-6717d3498bd6"
      },
      "cell_type": "code",
      "source": [
        "s(x).numpy()"
      ],
      "execution_count": 40,
      "outputs": [
        {
          "output_type": "execute_result",
          "data": {
            "text/plain": [
              "0.95257413"
            ]
          },
          "metadata": {
            "tags": []
          },
          "execution_count": 40
        }
      ]
    },
    {
      "metadata": {
        "id": "GQ8XRZhZIOBv",
        "colab_type": "text"
      },
      "cell_type": "markdown",
      "source": [
        "Moreover, there is a gain in execution time when you wrap functions in in `defun`. Let us use a simple function that contains multiple layers and see the difference in time. "
      ]
    },
    {
      "metadata": {
        "id": "oRGhYpxhDrYc",
        "colab_type": "code",
        "colab": {}
      },
      "cell_type": "code",
      "source": [
        "def encoder(x):\n",
        "  filters = 128\n",
        "  \n",
        "  x = Convolution2D(filters = filters, kernel_size = 3, padding = 'same', input_shape = [224, 224, 3], activation = 'relu')(x)\n",
        "  x = MaxPooling2D(pool_size = (2,2))(x)\n",
        "  \n",
        "  for i in range(0, 5):\n",
        "    filters = filters // 2\n",
        "    x = Convolution2D(filters = filters, kernel_size = 3, padding = 'same', activation = 'relu')(x)\n",
        "    x = MaxPooling2D(pool_size = (2,2))(x)\n",
        "    \n",
        "  x = Flatten()(x)\n",
        "  x = Dense(units = 512)(x)\n",
        "  x = Dense(units = 1)(x)\n",
        "  return x"
      ],
      "execution_count": 0,
      "outputs": []
    },
    {
      "metadata": {
        "id": "txkAq0m7Fb5s",
        "colab_type": "code",
        "colab": {
          "base_uri": "https://localhost:8080/",
          "height": 51
        },
        "outputId": "0381da7e-093e-48a7-be0d-25b913d1f182"
      },
      "cell_type": "code",
      "source": [
        "import time\n",
        "\n",
        "x = tf.Variable(np.zeros((10, 224, 224, 3)))\n",
        "\n",
        "#calculate the time in eager \n",
        "start = time.time()\n",
        "encoder(x)\n",
        "print('Time in pure python',time.time()-start)\n",
        "\n",
        "#calculate the time in graph \n",
        "encoder_g = tfe.defun(encoder)\n",
        "start = time.time()\n",
        "encoder_g(x)\n",
        "print('Time using defun ', time.time()-start)"
      ],
      "execution_count": 63,
      "outputs": [
        {
          "output_type": "stream",
          "text": [
            "Time in pure python 0.4226493835449219\n",
            "Time using defun  0.1210019588470459\n"
          ],
          "name": "stdout"
        }
      ]
    },
    {
      "metadata": {
        "id": "2yn5lOCuMIi-",
        "colab_type": "text"
      },
      "cell_type": "markdown",
      "source": [
        "# Use Eager and Graphs \n",
        "\n",
        "As you can see eager is all good but can it replace graphs?  TensorFlow with graph is useful for distributed training, performance optimizations, and production/deployment. Eager execution , on the other hand, cannot be used for these purposes. So, both modes are completing each other. Use eager to debug the code, create the models with tf.keras and then use the graph execution to accelarate  functions and deploy it on other platforms. "
      ]
    },
    {
      "metadata": {
        "id": "8oEGN5YZKUzA",
        "colab_type": "text"
      },
      "cell_type": "markdown",
      "source": [
        "# References\n",
        "Take a look at the following resources to read more about eager. \n",
        "\n",
        "*    [Eager guide](https://www.tensorflow.org/guide/eager). \n",
        "*   [Getting started with TensorFlow ](https://www.tensorflow.org/tutorials/)\n",
        "*   [Real examples with seedbank](https://tools.google.com/seedbank/seeds?q=eager). \n",
        "\n"
      ]
    },
    {
      "metadata": {
        "id": "hq1oj7LA1PPs",
        "colab_type": "text"
      },
      "cell_type": "markdown",
      "source": [
        "## CREDITS\n",
        "\n",
        ">Kuldeep Singh Sidhu\n",
        "\n",
        "Github: [github/singhsidhukuldeep](https://github.com/singhsidhukuldeep)\n",
        "`https://github.com/singhsidhukuldeep`\n",
        "\n",
        "Website: [Kuldeep Singh Sidhu (Website)](http://kuldeepsinghsidhu.com)\n",
        "`http://kuldeepsinghsidhu.com`\n",
        "\n",
        "LinkedIn: [Kuldeep Singh Sidhu (LinkedIn)](https://www.linkedin.com/in/singhsidhukuldeep/)\n",
        "`https://www.linkedin.com/in/singhsidhukuldeep/`"
      ]
    }
  ]
}